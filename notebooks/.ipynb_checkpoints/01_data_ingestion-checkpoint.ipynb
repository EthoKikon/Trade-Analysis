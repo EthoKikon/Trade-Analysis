{
 "cells": [
  {
   "cell_type": "code",
   "execution_count": 73,
   "id": "edf8d1dc",
   "metadata": {},
   "outputs": [],
   "source": [
    "# Imports & Paths\n",
    "import pandas as pd\n",
    "import numpy as np\n",
    "from pathlib import Path\n",
    "\n",
    "# Define project directories\n",
    "PROJECT_DIR = Path.cwd().parent\n",
    "D2_DIR       = PROJECT_DIR / 'D2'\n",
    "DATA_DIR     = PROJECT_DIR / 'data'\n",
    "FEATURES_DIR = DATA_DIR / 'features'\n",
    "\n",
    "# verification\n",
    "for d in (DATA_DIR, FEATURES_DIR):\n",
    "    d.mkdir(parents=True, exist_ok=True)\n"
   ]
  },
  {
   "cell_type": "markdown",
   "id": "2fb890c3",
   "metadata": {},
   "source": [
    "### Load CSV Files"
   ]
  },
  {
   "cell_type": "code",
   "execution_count": 74,
   "id": "1521e504",
   "metadata": {},
   "outputs": [],
   "source": [
    "# Working copies\n",
    "fg_path = D2_DIR / 'fear_greed_index.csv'\n",
    "trades_path = D2_DIR / 'historical_data.csv'\n",
    "\n",
    "# DataFrames\n",
    "df_sentiment = pd.read_csv(fg_path)\n",
    "df_trades = pd.read_csv(trades_path)"
   ]
  },
  {
   "cell_type": "code",
   "execution_count": 75,
   "id": "44817f7f",
   "metadata": {
    "scrolled": true
   },
   "outputs": [
    {
     "name": "stdout",
     "output_type": "stream",
     "text": [
      "Sentiment shape & columns: (2644, 4) ['timestamp', 'value', 'classification', 'date']\n",
      "Trades   shape & columns: (211224, 16) ['Account', 'Coin', 'Execution Price', 'Size Tokens', 'Size USD', 'Side', 'Timestamp IST', 'Start Position', 'Direction', 'Closed PnL', 'Transaction Hash', 'Order ID', 'Crossed', 'Fee', 'Trade ID', 'Timestamp']\n",
      "\n",
      "Nulls in Sentiment:\n",
      "timestamp         0\n",
      "value             0\n",
      "classification    0\n",
      "date              0\n",
      "dtype: int64\n",
      "\n",
      "Nulls in Trades:\n",
      "Account             0\n",
      "Coin                0\n",
      "Execution Price     0\n",
      "Size Tokens         0\n",
      "Size USD            0\n",
      "Side                0\n",
      "Timestamp IST       0\n",
      "Start Position      0\n",
      "Direction           0\n",
      "Closed PnL          0\n",
      "Transaction Hash    0\n",
      "Order ID            0\n",
      "Crossed             0\n",
      "Fee                 0\n",
      "Trade ID            0\n",
      "Timestamp           0\n",
      "dtype: int64\n",
      "\n",
      "Dtypes in Sentiment:\n",
      "timestamp          int64\n",
      "value              int64\n",
      "classification    object\n",
      "date              object\n",
      "dtype: object\n",
      "\n",
      "Dtypes in Trades:\n",
      "Account              object\n",
      "Coin                 object\n",
      "Execution Price     float64\n",
      "Size Tokens         float64\n",
      "Size USD            float64\n",
      "Side                 object\n",
      "Timestamp IST        object\n",
      "Start Position      float64\n",
      "Direction            object\n",
      "Closed PnL          float64\n",
      "Transaction Hash     object\n",
      "Order ID              int64\n",
      "Crossed                bool\n",
      "Fee                 float64\n",
      "Trade ID            float64\n",
      "Timestamp           float64\n",
      "dtype: object\n"
     ]
    }
   ],
   "source": [
    "# Inspection\n",
    "print(\"Sentiment shape & columns:\", df_sentiment.shape, df_sentiment.columns.tolist())\n",
    "print(\"Trades   shape & columns:\", df_trades.shape,    df_trades.columns.tolist())\n",
    "\n",
    "print(\"\\nNulls in Sentiment:\")\n",
    "print(df_sentiment.isna().sum())\n",
    "print(\"\\nNulls in Trades:\")\n",
    "print(df_trades.isna().sum())\n",
    "\n",
    "print(\"\\nDtypes in Sentiment:\")\n",
    "print(df_sentiment.dtypes)\n",
    "print(\"\\nDtypes in Trades:\")\n",
    "print(df_trades.dtypes)"
   ]
  },
  {
   "cell_type": "markdown",
   "id": "c15eb2f7",
   "metadata": {},
   "source": [
    "### Parse & clean datetime columns"
   ]
  },
  {
   "cell_type": "code",
   "execution_count": 76,
   "id": "0e8e0858",
   "metadata": {},
   "outputs": [],
   "source": [
    "# Sentiment\n",
    "df_sentiment['timestamp'] = pd.to_datetime(\n",
    "    df_sentiment['timestamp'],\n",
    "    unit='s',\n",
    "    errors='raise'\n",
    ")\n",
    "# - 'date' is ISO YYYY‑MM‑DD\n",
    "df_sentiment['date'] = pd.to_datetime(\n",
    "    df_sentiment['date'],\n",
    "    format='%Y-%m-%d',\n",
    "    errors='raise'\n",
    ")\n",
    "\n",
    "# Trades\n",
    "#  human‑readable IST string\n",
    "df_trades['Timestamp IST'] = pd.to_datetime(\n",
    "    df_trades['Timestamp IST'],\n",
    "    format='%d-%m-%Y %H:%M',\n",
    "    errors='raise'\n",
    ")\n"
   ]
  },
  {
   "cell_type": "markdown",
   "id": "d1397af8",
   "metadata": {},
   "source": [
    "###  Rename to snake_case & drop old"
   ]
  },
  {
   "cell_type": "code",
   "execution_count": 77,
   "id": "3986062a",
   "metadata": {},
   "outputs": [],
   "source": [
    "df_sentiment = df_sentiment.rename(columns={\n",
    "    'timestamp':      'sentiment_ts',\n",
    "    'value':          'sentiment_value',\n",
    "    'classification': 'sentiment_cat',\n",
    "    'date':           'sentiment_date'\n",
    "})\n",
    "\n",
    "trade_rename_map = {\n",
    "    'Account':           'account',\n",
    "    'Coin':              'coin',\n",
    "    'Execution Price':   'execution_price',\n",
    "    'Size Tokens':       'size_tokens',\n",
    "    'Size USD':          'size_usd',\n",
    "    'Side':              'side',\n",
    "    'Timestamp IST':     'trade_time',\n",
    "    'Start Position':    'start_position',\n",
    "    'Direction':         'direction',\n",
    "    'Closed PnL':        'closed_pnl',\n",
    "    'Transaction Hash':  'transaction_hash',\n",
    "    'Order ID':          'order_id',\n",
    "    'Crossed':           'crossed',\n",
    "    'Fee':                'fee',\n",
    "    'Trade ID':          'trade_id'\n",
    "}\n",
    "\n",
    "\n",
    "df_trades = (\n",
    "    df_trades\n",
    "    .rename(columns=trade_rename_map)\n",
    "    .drop(columns=['Timestamp'])   # drop the all‑NaT numeric field\n",
    ")\n"
   ]
  },
  {
   "cell_type": "code",
   "execution_count": 78,
   "id": "b0308fd6",
   "metadata": {},
   "outputs": [
    {
     "name": "stdout",
     "output_type": "stream",
     "text": [
      "\n",
      "After renaming & dropping:\n",
      "Sentiment columns: ['sentiment_ts', 'sentiment_value', 'sentiment_cat', 'sentiment_date']\n",
      "Trades    columns: ['account', 'coin', 'execution_price', 'size_tokens', 'size_usd', 'side', 'trade_time', 'start_position', 'direction', 'closed_pnl', 'transaction_hash', 'order_id', 'crossed', 'fee', 'trade_id']\n",
      "\n",
      "Nulls in cleaned sentiment and trades:\n",
      "sentiment_ts       0\n",
      "sentiment_value    0\n",
      "sentiment_cat      0\n",
      "sentiment_date     0\n",
      "dtype: int64\n",
      "account             0\n",
      "coin                0\n",
      "execution_price     0\n",
      "size_tokens         0\n",
      "size_usd            0\n",
      "side                0\n",
      "trade_time          0\n",
      "start_position      0\n",
      "direction           0\n",
      "closed_pnl          0\n",
      "transaction_hash    0\n",
      "order_id            0\n",
      "crossed             0\n",
      "fee                 0\n",
      "trade_id            0\n",
      "dtype: int64\n",
      "\n",
      "Dtypes in cleaned sentiment:\n",
      "sentiment_ts       datetime64[ns]\n",
      "sentiment_value             int64\n",
      "sentiment_cat              object\n",
      "sentiment_date     datetime64[ns]\n",
      "dtype: object\n",
      "\n",
      "Dtypes in cleaned trades:\n",
      "account                     object\n",
      "coin                        object\n",
      "execution_price            float64\n",
      "size_tokens                float64\n",
      "size_usd                   float64\n",
      "side                        object\n",
      "trade_time          datetime64[ns]\n",
      "start_position             float64\n",
      "direction                   object\n",
      "closed_pnl                 float64\n",
      "transaction_hash            object\n",
      "order_id                     int64\n",
      "crossed                       bool\n",
      "fee                        float64\n",
      "trade_id                   float64\n",
      "dtype: object\n"
     ]
    }
   ],
   "source": [
    "# Post‑rename inspection\n",
    "print(\"\\nAfter renaming & dropping:\")\n",
    "print(\"Sentiment columns:\", df_sentiment.columns.tolist())\n",
    "print(\"Trades    columns:\",    df_trades.columns.tolist())\n",
    "\n",
    "print(\"\\nNulls in cleaned sentiment and trades:\")\n",
    "print(df_sentiment.isna().sum())\n",
    "print(df_trades.isna().sum())\n",
    "\n",
    "print(\"\\nDtypes in cleaned sentiment:\")\n",
    "print(df_sentiment.dtypes)\n",
    "print(\"\\nDtypes in cleaned trades:\")\n",
    "print(df_trades.dtypes)\n"
   ]
  },
  {
   "cell_type": "markdown",
   "id": "e960ac03",
   "metadata": {},
   "source": [
    "### Convert categories & numeric types"
   ]
  },
  {
   "cell_type": "code",
   "execution_count": 79,
   "id": "d57c70e9",
   "metadata": {},
   "outputs": [],
   "source": [
    "df_sentiment['sentiment_cat'] = df_sentiment['sentiment_cat'].astype('category')\n",
    "df_trades['side']           = df_trades['side'].astype('category')\n",
    "df_trades['direction']      = df_trades['direction'].astype('category')\n",
    "\n",
    "for col in ['execution_price','size_tokens','size_usd','closed_pnl','fee']:\n",
    "    df_trades[col] = pd.to_numeric(df_trades[col], errors='coerce')\n",
    "\n"
   ]
  },
  {
   "cell_type": "markdown",
   "id": "b0897663",
   "metadata": {},
   "source": [
    "### Save and export cleaned data"
   ]
  },
  {
   "cell_type": "code",
   "execution_count": 80,
   "id": "e844bde4",
   "metadata": {},
   "outputs": [
    {
     "name": "stdout",
     "output_type": "stream",
     "text": [
      "\n",
      "✅ Data ingestion & cleaning complete. Clean files written to:\n",
      " - H:\\Portfilios\\JuniorDataScientist\\TradeAnalysis\\data\\clean_sentiment.parquet\n",
      " - H:\\Portfilios\\JuniorDataScientist\\TradeAnalysis\\data\\clean_trades.parquet\n"
     ]
    }
   ],
   "source": [
    "df_sentiment.to_parquet(DATA_DIR / 'clean_sentiment.parquet', index=False)\n",
    "df_trades.to_parquet(DATA_DIR / 'clean_trades.parquet', index=False)\n",
    "\n",
    "print(\"\\n✅ Data ingestion & cleaning complete. Clean files written to:\")\n",
    "print(\" -\", DATA_DIR / 'clean_sentiment.parquet')\n",
    "print(\" -\", DATA_DIR / 'clean_trades.parquet')"
   ]
  },
  {
   "cell_type": "code",
   "execution_count": null,
   "id": "310361fd",
   "metadata": {},
   "outputs": [],
   "source": []
  }
 ],
 "metadata": {
  "kernelspec": {
   "display_name": "Python 3 (ipykernel)",
   "language": "python",
   "name": "python3"
  },
  "language_info": {
   "codemirror_mode": {
    "name": "ipython",
    "version": 3
   },
   "file_extension": ".py",
   "mimetype": "text/x-python",
   "name": "python",
   "nbconvert_exporter": "python",
   "pygments_lexer": "ipython3",
   "version": "3.11.3"
  }
 },
 "nbformat": 4,
 "nbformat_minor": 5
}
