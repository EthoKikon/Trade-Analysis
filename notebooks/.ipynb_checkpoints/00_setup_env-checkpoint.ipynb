{
 "cells": [
  {
   "cell_type": "markdown",
   "id": "7a80cb47",
   "metadata": {},
   "source": [
    "### 00_setup_env.ipynb\n",
    "### -------------------------------------------------------------------------\n",
    "#### This notebook sets up the environment for the Trade Analysis project.\n",
    "#### It installs/loads packages, defines paths, and confirms the raw data folder structure.\n",
    "\n",
    "###  00. Setup Environment\n",
    "#### - Install and import required libraries\n",
    "#### - Define project directory paths\n",
    "#### - Verify raw data files in `D1/`\n",
    "#### - Copy raw data to `D2/` for safe manipulation"
   ]
  },
  {
   "cell_type": "code",
   "execution_count": 21,
   "id": "29fb65d1",
   "metadata": {},
   "outputs": [],
   "source": [
    "# Import or install packages if needed\n",
    "import sys\n",
    "import os\n",
    "import shutil\n",
    "from pathlib import Path\n",
    "import pandas as pd\n",
    "import numpy as np\n",
    "import matplotlib\n",
    "import matplotlib.pyplot as plt\n",
    "import seaborn as sns\n",
    "import plotly\n",
    "import plotly.express as px\n",
    "from datetime import datetime"
   ]
  },
  {
   "cell_type": "code",
   "execution_count": 22,
   "id": "0b26134e",
   "metadata": {},
   "outputs": [
    {
     "name": "stdout",
     "output_type": "stream",
     "text": [
      "Python version: 3.11.3 | packaged by Anaconda, Inc. | (main, Apr 19 2023, 23:46:34) [MSC v.1916 64 bit (AMD64)]\n",
      "Pandas version: 1.5.3\n",
      "NumPy version: 1.24.3\n",
      "Matplotlib version: 3.7.1\n",
      "Seaborn version: 0.12.2\n",
      "Plotly version: 5.9.0\n"
     ]
    }
   ],
   "source": [
    "# Check packages verisions for verification\n",
    "print(\"Python version:\", sys.version)\n",
    "print(\"Pandas version:\", pd.__version__)\n",
    "print(\"NumPy version:\", np.__version__)\n",
    "print(\"Matplotlib version:\", matplotlib.__version__)\n",
    "print(\"Seaborn version:\", sns.__version__)\n",
    "print(\"Plotly version:\", plotly.__version__ if hasattr(plotly, '__version__') else \"Unknown\")"
   ]
  },
  {
   "cell_type": "code",
   "execution_count": 23,
   "id": "6d36f3ff",
   "metadata": {},
   "outputs": [],
   "source": [
    "# Base project directory \n",
    "PROJECT_DIR = Path.cwd().parent\n",
    "D1_DIR = PROJECT_DIR / 'D1'\n",
    "D2_DIR = PROJECT_DIR / 'D2'\n",
    "DATA_DIR = PROJECT_DIR / 'data'\n",
    "FEATURES_DIR = DATA_DIR / 'features'"
   ]
  },
  {
   "cell_type": "code",
   "execution_count": 24,
   "id": "4c84a0c7",
   "metadata": {},
   "outputs": [
    {
     "name": "stdout",
     "output_type": "stream",
     "text": [
      "D1 (raw) directory: H:\\Portfilios\\JuniorDataScientist\\TradeAnalysis\\D1\n",
      "D2 (working) directory: H:\\Portfilios\\JuniorDataScientist\\TradeAnalysis\\D2\n",
      "Data directory: H:\\Portfilios\\JuniorDataScientist\\TradeAnalysis\\data\n",
      "Features directory: H:\\Portfilios\\JuniorDataScientist\\TradeAnalysis\\data\\features\n"
     ]
    }
   ],
   "source": [
    "# Verify files\n",
    "for folder in [D1_DIR, D2_DIR, DATA_DIR, FEATURES_DIR]:\n",
    "    folder.mkdir(parents=True, exist_ok=True)\n",
    "    \n",
    "print(\"D1 (raw) directory:\", D1_DIR)\n",
    "print(\"D2 (working) directory:\", D2_DIR)\n",
    "print(\"Data directory:\", DATA_DIR)\n",
    "print(\"Features directory:\", FEATURES_DIR)"
   ]
  },
  {
   "cell_type": "markdown",
   "id": "51f128bd",
   "metadata": {},
   "source": [
    "#### Verify raw data files "
   ]
  },
  {
   "cell_type": "code",
   "execution_count": 25,
   "id": "59c34e89",
   "metadata": {},
   "outputs": [
    {
     "name": "stdout",
     "output_type": "stream",
     "text": [
      "Found raw CSV files:\n",
      "- fear_greed_index.csv\n",
      "- historical_data.csv\n",
      "fear_greed_index.csv: 0.09 MB\n",
      "historical_data.csv: 45.32 MB\n"
     ]
    }
   ],
   "source": [
    "raw_files = list(D1_DIR.glob('*.csv'))\n",
    "print(\"Found raw CSV files:\")\n",
    "for f in raw_files:\n",
    "    print('-', f.name)\n",
    "\n",
    "# Quick sanity check: file sizes\n",
    "for f in raw_files:\n",
    "    size_mb = f.stat().st_size / (1024**2)\n",
    "    print(f\"{f.name}: {size_mb:.2f} MB\")"
   ]
  },
  {
   "cell_type": "markdown",
   "id": "ee73b016",
   "metadata": {},
   "source": [
    "#### copy raw files to D2/ for working with copies"
   ]
  },
  {
   "cell_type": "code",
   "execution_count": 26,
   "id": "aedd28b9",
   "metadata": {},
   "outputs": [
    {
     "name": "stdout",
     "output_type": "stream",
     "text": [
      "Copied fear_greed_index.csv to D2/\n",
      "Copied historical_data.csv to D2/\n"
     ]
    }
   ],
   "source": [
    "for f in raw_files:\n",
    "    dest = D2_DIR / f.name\n",
    "    shutil.copy2(f, dest)\n",
    "    print(f\"Copied {f.name} to D2/\")"
   ]
  },
  {
   "cell_type": "code",
   "execution_count": null,
   "id": "cfde3f3b",
   "metadata": {},
   "outputs": [],
   "source": []
  },
  {
   "cell_type": "code",
   "execution_count": null,
   "id": "874cc5c3",
   "metadata": {},
   "outputs": [],
   "source": []
  },
  {
   "cell_type": "code",
   "execution_count": null,
   "id": "6da5c4fb",
   "metadata": {},
   "outputs": [],
   "source": []
  },
  {
   "cell_type": "code",
   "execution_count": null,
   "id": "b740dfdc",
   "metadata": {},
   "outputs": [],
   "source": []
  },
  {
   "cell_type": "code",
   "execution_count": null,
   "id": "40c82cc6",
   "metadata": {},
   "outputs": [],
   "source": []
  }
 ],
 "metadata": {
  "kernelspec": {
   "display_name": "Python 3 (ipykernel)",
   "language": "python",
   "name": "python3"
  },
  "language_info": {
   "codemirror_mode": {
    "name": "ipython",
    "version": 3
   },
   "file_extension": ".py",
   "mimetype": "text/x-python",
   "name": "python",
   "nbconvert_exporter": "python",
   "pygments_lexer": "ipython3",
   "version": "3.11.3"
  }
 },
 "nbformat": 4,
 "nbformat_minor": 5
}
