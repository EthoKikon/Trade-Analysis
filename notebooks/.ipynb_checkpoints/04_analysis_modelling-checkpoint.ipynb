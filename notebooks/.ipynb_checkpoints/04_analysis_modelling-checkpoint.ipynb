{
 "cells": [
  {
   "cell_type": "code",
   "execution_count": 1,
   "id": "91a95b97",
   "metadata": {},
   "outputs": [],
   "source": [
    "# 0. Imports & Paths\n",
    "import pandas as pd\n",
    "import numpy as np\n",
    "import statsmodels.api as sm\n",
    "from statsmodels.formula.api import ols\n",
    "from sklearn.ensemble      import RandomForestClassifier\n",
    "from sklearn.model_selection import train_test_split, cross_val_score\n",
    "from sklearn.metrics       import accuracy_score, roc_auc_score, classification_report, RocCurveDisplay\n",
    "import matplotlib.pyplot    as plt\n",
    "from pathlib import Path"
   ]
  },
  {
   "cell_type": "code",
   "execution_count": 2,
   "id": "2a7c6de7",
   "metadata": {},
   "outputs": [],
   "source": [
    "PROJECT_DIR  = Path.cwd().parent\n",
    "DATA_DIR     = PROJECT_DIR / 'data'\n",
    "FEATURES_DIR = DATA_DIR / 'features'\n"
   ]
  },
  {
   "cell_type": "code",
   "execution_count": 3,
   "id": "bce087b9",
   "metadata": {
    "scrolled": true
   },
   "outputs": [
    {
     "name": "stdout",
     "output_type": "stream",
     "text": [
      "ANOVA table:\n",
      "                         sum_sq        df         F        PR(>F)\n",
      "C(sentiment_cat)  3.054248e+07       4.0  9.062226  2.575399e-07\n",
      "Residual          1.779631e+11  211213.0       NaN           NaN \n",
      "\n",
      "        Multiple Comparison of Means - Tukey HSD, FWER=0.05         \n",
      "====================================================================\n",
      "    group1        group2    meandiff p-adj   lower    upper   reject\n",
      "--------------------------------------------------------------------\n",
      " Extreme Fear Extreme Greed   33.355 0.0002  12.1482  54.5618   True\n",
      " Extreme Fear          Fear  19.7525  0.052  -0.1057  39.6108  False\n",
      " Extreme Fear         Greed   8.2057 0.8091 -12.2295  28.6409  False\n",
      " Extreme Fear       Neutral  -0.2301    1.0 -21.6619  21.2017  False\n",
      "Extreme Greed          Fear -13.6025 0.1418 -29.6696   2.4647  False\n",
      "Extreme Greed         Greed -25.1493 0.0004 -41.9243  -8.3743   True\n",
      "Extreme Greed       Neutral -33.5851    0.0 -51.5608 -15.6095   True\n",
      "         Fear         Greed -11.5468 0.2221 -26.5808   3.4871  False\n",
      "         Fear       Neutral -19.9827 0.0077 -36.3456  -3.6198   True\n",
      "        Greed       Neutral  -8.4358 0.6604 -25.4943   8.6226  False\n",
      "--------------------------------------------------------------------\n"
     ]
    }
   ],
   "source": [
    "# ANOVA — mean closed_pnl by sentiment bucket\n",
    "df_merged = pd.read_parquet(DATA_DIR / 'cleaned_merged_trades_sentiment.parquet')\n",
    "\n",
    "anova = ols('closed_pnl ~ C(sentiment_cat)', data=df_merged).fit()\n",
    "table = sm.stats.anova_lm(anova, typ=2)\n",
    "print(\"ANOVA table:\\n\", table, \"\\n\")\n",
    "\n",
    "# Tukey post‑hoc\n",
    "from statsmodels.stats.multicomp import pairwise_tukeyhsd\n",
    "tukey = pairwise_tukeyhsd(df_merged['closed_pnl'], df_merged['sentiment_cat'], alpha=0.05)\n",
    "print(tukey.summary())"
   ]
  },
  {
   "cell_type": "markdown",
   "id": "15f5a327",
   "metadata": {},
   "source": [
    "### Prepare data for classification"
   ]
  },
  {
   "cell_type": "code",
   "execution_count": 4,
   "id": "c00f1472",
   "metadata": {},
   "outputs": [],
   "source": [
    "# load features\n",
    "df_feat = pd.read_parquet(FEATURES_DIR / 'trade_features.parquet')\n",
    "\n",
    "# Define X, y\n",
    "feature_cols = [\n",
    "    'd_sentiment_value','d_sent_lag_1','d_sent_roll7_mean',\n",
    "    'size_usd','side_buy','side_sell','acct_avg_size','acct_win_rate'\n",
    "]\n",
    "X = df_feat[feature_cols]\n",
    "y = df_feat['is_win']\n",
    "\n",
    "# Train/test split (stratified)\n",
    "X_train, X_test, y_train, y_test = train_test_split(\n",
    "    X, y, test_size=0.2, random_state=42, stratify=y\n",
    ")"
   ]
  },
  {
   "cell_type": "markdown",
   "id": "fd340d62",
   "metadata": {},
   "source": [
    "### Random Forest"
   ]
  },
  {
   "cell_type": "code",
   "execution_count": 5,
   "id": "1903d5f6",
   "metadata": {},
   "outputs": [
    {
     "name": "stdout",
     "output_type": "stream",
     "text": [
      "5‑fold CV ROC‑AUC: [0.608 0.727 0.595 0.743 0.636]\n",
      "Mean CV ROC‑AUC:   0.662 \n",
      "\n"
     ]
    }
   ],
   "source": [
    "# 3. Train Random Forest & cross‑val\n",
    "clf = RandomForestClassifier(\n",
    "    n_estimators=200,\n",
    "    max_depth=7,\n",
    "    min_samples_leaf=5,\n",
    "    max_features='sqrt',\n",
    "    random_state=42,\n",
    "    n_jobs=-1\n",
    ")\n",
    "clf.fit(X_train, y_train)\n",
    "\n",
    "cv_auc = cross_val_score(clf, X, y, cv=5, scoring='roc_auc', n_jobs=-1)\n",
    "print(\"5‑fold CV ROC‑AUC:\", cv_auc.round(3))\n",
    "print(\"Mean CV ROC‑AUC:  \", cv_auc.mean().round(3), \"\\n\")"
   ]
  },
  {
   "cell_type": "code",
   "execution_count": 6,
   "id": "f90d4a7d",
   "metadata": {},
   "outputs": [
    {
     "name": "stdout",
     "output_type": "stream",
     "text": [
      "Test Accuracy:  0.784\n",
      "Test ROC‑AUC:    0.875 \n",
      "\n",
      "Classification Report:\n",
      "               precision    recall  f1-score   support\n",
      "\n",
      "           0      0.780     0.882     0.828     24862\n",
      "           1      0.792     0.645     0.711     17373\n",
      "\n",
      "    accuracy                          0.784     42235\n",
      "   macro avg      0.786     0.763     0.769     42235\n",
      "weighted avg      0.785     0.784     0.780     42235\n",
      "\n"
     ]
    }
   ],
   "source": [
    "# 4. Evaluate on hold‑out\n",
    "y_pred  = clf.predict(X_test)\n",
    "y_proba = clf.predict_proba(X_test)[:,1]\n",
    "\n",
    "print(\"Test Accuracy: \", accuracy_score(y_test, y_pred).round(3))\n",
    "print(\"Test ROC‑AUC:   \", roc_auc_score(y_test, y_proba).round(3), \"\\n\")\n",
    "print(\"Classification Report:\\n\", classification_report(y_test, y_pred, digits=3))"
   ]
  },
  {
   "cell_type": "code",
   "execution_count": 7,
   "id": "c1081945",
   "metadata": {},
   "outputs": [
    {
     "name": "stdout",
     "output_type": "stream",
     "text": [
      "Feature importances:\n",
      "              feature  importance\n",
      "7      acct_win_rate    0.371172\n",
      "6      acct_avg_size    0.158122\n",
      "4           side_buy    0.134520\n",
      "5          side_sell    0.134337\n",
      "2  d_sent_roll7_mean    0.081704\n",
      "0  d_sentiment_value    0.050092\n",
      "1       d_sent_lag_1    0.045786\n",
      "3           size_usd    0.024266 \n",
      "\n"
     ]
    },
    {
     "data": {
      "text/plain": [
       "<Figure size 600x500 with 0 Axes>"
      ]
     },
     "metadata": {},
     "output_type": "display_data"
    },
    {
     "data": {
      "image/png": "[encoded data removed]",
      "text/plain": [
       "<Figure size 640x480 with 1 Axes>"
      ]
     },
     "metadata": {},
     "output_type": "display_data"
    }
   ],
   "source": [
    "# 5. Feature importances + ROC curve\n",
    "imp_df = (\n",
    "    pd.DataFrame({\n",
    "        'feature': feature_cols,\n",
    "        'importance': clf.feature_importances_\n",
    "    })\n",
    "    .sort_values('importance', ascending=False)\n",
    ")\n",
    "print(\"Feature importances:\\n\", imp_df, \"\\n\")\n",
    "\n",
    "plt.figure(figsize=(6,5))\n",
    "RocCurveDisplay.from_estimator(clf, X_test, y_test)\n",
    "plt.title(\"ROC Curve\")\n",
    "plt.tight_layout()\n",
    "plt.show()"
   ]
  }
 ],
 "metadata": {
  "kernelspec": {
   "display_name": "Python 3 (ipykernel)",
   "language": "python",
   "name": "python3"
  },
  "language_info": {
   "codemirror_mode": {
    "name": "ipython",
    "version": 3
   },
   "file_extension": ".py",
   "mimetype": "text/x-python",
   "name": "python",
   "nbconvert_exporter": "python",
   "pygments_lexer": "ipython3",
   "version": "3.11.3"
  }
 },
 "nbformat": 4,
 "nbformat_minor": 5
}
