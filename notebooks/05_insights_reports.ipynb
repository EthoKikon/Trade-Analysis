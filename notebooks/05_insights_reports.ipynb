{
 "cells": [
  {
   "cell_type": "markdown",
   "id": "3b21e71e",
   "metadata": {},
   "source": [
    "# Trade Performance & Bitcoin Fear/Greed Analysis\n",
    "*By:-* Boris Soyingthung Kikon"
   ]
  },
  {
   "cell_type": "markdown",
   "id": "ae3411fc",
   "metadata": {},
   "source": [
    "## Executive Summary\n",
    "\n",
    "- **Statistically significant PnL differences by sentiment**  \n",
    "  ANOVA (F = 9.06, p = 2.6 × 10⁻⁷) confirms that at least two of the five Fear/Greed categories have different mean trade profits.\n",
    "\n",
    "- **Extreme Greed vs. Extreme Fear gap**  \n",
    "  Tukey HSD shows trades on **Extreme Greed** days outperform those on **Extreme Fear** days by an average of \\$33.36 (p = 0.0002).\n",
    "\n",
    "- **Win‑rate lift under greed**  \n",
    "  Traders win ~37 % of the time in **Extreme Fear** but ~46 % in **Extreme Greed**, a nine‑point increase in successful trades.\n",
    "\n",
    "---\n",
    "\n",
    "## Additional Insights\n",
    "\n",
    "- **Predictive signal**  \n",
    "  A Random Forest model using 7‑day rolling sentiment plus trader history achieves **ROC‑AUC = 0.87** on a held‑out test set.\n",
    "\n",
    "- **Key drivers**  \n",
    "  The trader’s historical win‑rate, average trade size, and buy/sell bias carry most of the model’s predictive weight; sentiment features contribute ~18 % of importance.\n"
   ]
  },
  {
   "cell_type": "markdown",
   "id": "0054cdb6",
   "metadata": {},
   "source": [
    "## Data & Methods\n",
    "\n",
    "- **Datasets:**  \n",
    "  1. Fear/Greed Index (2018–2025), daily sentiment_value & classification  \n",
    "  2. Historical trades (~211 k rows), with timestamps, sizes, PnL, account IDs  \n",
    "\n",
    "- **Cleaning & Merge:**  \n",
    "  - Parse timestamps, drop unused columns  \n",
    "  - Merge each trade to that day’s sentiment  \n",
    "\n",
    "- **EDA & Stats:**  \n",
    "  - Distributions of PnL, trade size  \n",
    "  - Mean & median PnL by sentiment  \n",
    "  - ANOVA + Tukey HSD  \n",
    "\n",
    "- **Modeling (Optional):**  \n",
    "  - Random Forest classification on win/loss (`is_win`)  \n",
    "  - Features: sentiment lags, rolling means, trade/account stats  \n"
   ]
  },
  {
   "cell_type": "markdown",
   "id": "89594a99",
   "metadata": {},
   "source": [
    "## Key Findings"
   ]
  },
  {
   "cell_type": "markdown",
   "id": "2855b729",
   "metadata": {},
   "source": [
    "#### Sentiment Dynamics  \n",
    "- Fear dominated early 2018–2019; Greed peaked in 2020–2021 bull run; Panic returns in drawdowns.\n",
    "\n",
    "\n",
    "#### Trade PnL & Size  \n",
    "- Most trades cluster near zero PnL; rare large wins/losses exist (heavy tails).  \n",
    "- Trade size has weak direct correlation with PnL.\n",
    "\n",
    "\n",
    "#### PnL & Win‑Rate by Sentiment  \n",
    "- **Mean PnL**: climbs from \\$34 (Neutral/Extreme Fear) → \\$68 (Extreme Greed).  \n",
    "- **Win Rate**: rises from 37 % (Extreme Fear) → 46 % (Extreme Greed).  \n",
    "- Significant differences confirmed by ANOVA (p < 0.001) and Tukey HSD.\n",
    "\n",
    "#### Rolling Correlation  \n",
    "- The 30‑day correlation between sentiment and avg daily PnL swings between −0.6 and +0.6—i.e. predictive power is regime‑dependent.\n",
    "\n"
   ]
  },
  {
   "cell_type": "markdown",
   "id": "756928dd",
   "metadata": {},
   "source": [
    "## Statistical Confirmation"
   ]
  },
  {
   "cell_type": "markdown",
   "id": "08577d7c",
   "metadata": {},
   "source": [
    "#### ANOVA & Post‑Hoc\n",
    "\n",
    "| Comparison               | Mean Δ | p‑adj  | Significant? |\n",
    "|--------------------------|-------:|-------:|:-------------|\n",
    "| Extreme Greed vs Fear    | 33.36  | 0.0002 | Yes          |\n",
    "| Fear vs Neutral          | 19.75  | 0.052  | No           |\n",
    "| …                        | …      | …      | …            |\n",
    "\n",
    "ANOVA F(4, 211213) = 9.06, p = 2.6 × 10⁻⁷\n"
   ]
  },
  {
   "cell_type": "markdown",
   "id": "0f757334",
   "metadata": {},
   "source": [
    "## Classification Model (Additional Analysis)\n",
    "\n",
    "- **Test ROC‑AUC:** 0.87  \n",
    "- **Top features:**  \n",
    "  1. Trader win‑rate (37%)  \n",
    "  2. Avg trade size (16%)  \n",
    "  3. Buy/Sell flags (27% combined)  \n",
    "  4. Rolling sentiment (8%)  \n",
    "- **Implication:** Even after accounting for trader history, sentiment boosts your ability to pick winners.\n",
    " "
   ]
  },
  {
   "cell_type": "markdown",
   "id": "30035cb3",
   "metadata": {},
   "source": [
    "## Recommendations  \n",
    "\n",
    "1. **Sentiment‑Aware Sizing:** increase position size on days with sentiment > 80.  \n",
    "2. **Trader‑Specific Tilt:** combine account historical win‑rate with market sentiment to prioritize high‑odds trades.  \n",
    "3. **Monitor Regime Shifts:** track rolling correlation—if it turns negative, dial back sentiment‑based allocation.\n",
    "\n",
    "## Next Steps\n",
    "\n",
    "- Integrate live price volatility indicators  \n",
    "- Build an interactive dashboard (Power BI or Streamlit)  \n",
    "- Explore coin‑level sentiment effects and intraday timing patterns"
   ]
  }
 ],
 "metadata": {
  "kernelspec": {
   "display_name": "Python 3 (ipykernel)",
   "language": "python",
   "name": "python3"
  },
  "language_info": {
   "codemirror_mode": {
    "name": "ipython",
    "version": 3
   },
   "file_extension": ".py",
   "mimetype": "text/x-python",
   "name": "python",
   "nbconvert_exporter": "python",
   "pygments_lexer": "ipython3",
   "version": "3.11.3"
  }
 },
 "nbformat": 4,
 "nbformat_minor": 5
}
